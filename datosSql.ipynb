{
 "cells": [
  {
   "cell_type": "code",
   "execution_count": 36,
   "metadata": {},
   "outputs": [],
   "source": [
    "import sqlite3\n",
    "import pandas as pd\n",
    "import matplotlib as plt\n",
    "import matplotlib.pyplot as plt\n",
    "import seaborn as sns\n",
    "from openpyxl import Workbook"
   ]
  },
  {
   "cell_type": "code",
   "execution_count": 38,
   "metadata": {},
   "outputs": [
    {
     "name": "stdout",
     "output_type": "stream",
     "text": [
      "    id_pedido  id_cliente                fecha  hora  id_departamento  \\\n",
      "0           1      112108  2023-02-02 00:00:00    10                4   \n",
      "1           1      112108  2023-02-02 00:00:00    10                4   \n",
      "2           1      112108  2023-02-02 00:00:00    10                4   \n",
      "3           2      202279  2023-02-03 00:00:00     9                4   \n",
      "4           2      202279  2023-02-03 00:00:00     9                4   \n",
      "5           3      205970  2023-06-12 00:00:00    17                4   \n",
      "6           5      156122  2023-10-21 00:00:00    16                4   \n",
      "7           5      156122  2023-10-21 00:00:00    16                4   \n",
      "8           5      156122  2023-10-21 00:00:00    16                4   \n",
      "9          10      135442  2023-01-28 00:00:00     8                4   \n",
      "10         10      135442  2023-01-28 00:00:00     8                4   \n",
      "11         10      135442  2023-01-28 00:00:00     8                4   \n",
      "12         10      135442  2023-01-28 00:00:00     8                4   \n",
      "13         10      135442  2023-01-28 00:00:00     8                4   \n",
      "14         10      135442  2023-01-28 00:00:00     8               16   \n",
      "15         14       18194  2023-12-13 00:00:00    15               16   \n",
      "16         14       18194  2023-12-13 00:00:00    15                4   \n",
      "17         18      118860  2023-01-19 00:00:00    20                7   \n",
      "18         18      118860  2023-01-19 00:00:00    20                4   \n",
      "19         18      118860  2023-01-19 00:00:00    20                4   \n",
      "\n",
      "    id_seccion  id_producto                  nombre_producto  precio_unitario  \\\n",
      "0           83        49683                     Pepino Kirby             0.99   \n",
      "1           24        13176       Bolsa de Bananas Orgánicas             2.45   \n",
      "2           24        47209           Aguacate Hass Orgánico             1.79   \n",
      "3           83        28985  Col Rizada Orgánica de Michigan             2.55   \n",
      "4           83        17794                       Zanahorias             0.95   \n",
      "5          123        21903         Espinacas Baby Orgánicas             1.49   \n",
      "6           24        13176       Bolsa de Bananas Orgánicas             2.45   \n",
      "7          123        27966             Frambuesas Orgánicas             2.85   \n",
      "8           24        47209           Aguacate Hass Orgánico             1.79   \n",
      "9           24        24852                           Banana             1.05   \n",
      "10          16        31717                Cilantro Orgánico             0.69   \n",
      "11          24        47766                Aguacate Orgánico             1.75   \n",
      "12          83         4605               Cebollas Amarillas             0.85   \n",
      "13          24        21137                 Fresas Orgánicas             2.49   \n",
      "14          53        49235                   Crema Orgánica             1.15   \n",
      "15          84        27845            Leche Entera Orgánica             0.99   \n",
      "16          24        45066               Manzana Honeycrisp             1.55   \n",
      "17         115        44632           Agua con Gas de Pomelo             0.95   \n",
      "18         123        27966             Frambuesas Orgánicas             2.85   \n",
      "19          83        46979                       Espárragos             1.95   \n",
      "\n",
      "    cantidad  precio_total  \n",
      "0          4          3.96  \n",
      "1          4          9.80  \n",
      "2          2          3.58  \n",
      "3          2          5.10  \n",
      "4          5          4.75  \n",
      "5          4          5.96  \n",
      "6          5         12.25  \n",
      "7          7         19.95  \n",
      "8          3          5.37  \n",
      "9          5          5.25  \n",
      "10         5          3.45  \n",
      "11         4          7.00  \n",
      "12         4          3.40  \n",
      "13         4          9.96  \n",
      "14         7          8.05  \n",
      "15         7          6.93  \n",
      "16         5          7.75  \n",
      "17         3          2.85  \n",
      "18         3          8.55  \n",
      "19         4          7.80  \n"
     ]
    }
   ],
   "source": [
    "# Connect to database\n",
    "connect = sqlite3.connect(\"./data/sanoyfresco.db\")\n",
    "\n",
    "# See some datas --> 1\n",
    "query_table = pd.read_sql_query(\"\"\"\n",
    "    SELECT * FROM tickets LIMIT 20\n",
    "\"\"\", connect)\n",
    "\n",
    "print(query_table)\n"
   ]
  },
  {
   "cell_type": "code",
   "execution_count": 9,
   "metadata": {},
   "outputs": [
    {
     "name": "stdout",
     "output_type": "stream",
     "text": [
      "Ingreso total generado por el negocio: 39,854,875.32\n"
     ]
    }
   ],
   "source": [
    "total_sales = pd.read_sql_query(\"\"\"\n",
    "    SELECT SUM(precio_total) AS ingreso_total FROM tickets\n",
    "\"\"\", connect)\n",
    "\n",
    "print(f\"Ingreso total generado por el negocio: {total_sales['ingreso_total'][0]:,.2f}\")"
   ]
  },
  {
   "cell_type": "code",
   "execution_count": 10,
   "metadata": {},
   "outputs": [
    {
     "name": "stdout",
     "output_type": "stream",
     "text": [
      "Monthly income trend\n",
      "        mes  ingresos_mensuales\n",
      "0   2023-01          6673099.74\n",
      "1   2023-02          4945202.53\n",
      "2   2023-03          4725676.75\n",
      "3   2023-04          3994824.12\n",
      "4   2023-05          3626726.78\n",
      "5   2023-06          3125001.00\n",
      "6   2023-07          2937364.05\n",
      "7   2023-08          2533350.46\n",
      "8   2023-09          2343858.92\n",
      "9   2023-10          2127269.84\n",
      "10  2023-11          1637899.98\n",
      "11  2023-12          1184601.15\n"
     ]
    }
   ],
   "source": [
    "# Monthly income trend --> 2\n",
    "trend_sales = pd.read_sql_query(\"\"\"\n",
    "    SELECT strftime('%Y-%m', fecha) AS mes, SUM(precio_total) AS ingresos_mensuales\n",
    "    FROM tickets\n",
    "    GROUP BY mes\n",
    "    ORDER BY mes\n",
    "\"\"\", connect)\n",
    "\n",
    "print(\"Monthly income trend\")\n",
    "print(trend_sales)"
   ]
  },
  {
   "cell_type": "code",
   "execution_count": 25,
   "metadata": {},
   "outputs": [
    {
     "data": {
      "image/png": "[encoded data removed]",
      "text/plain": [
       "<Figure size 1200x600 with 1 Axes>"
      ]
     },
     "metadata": {},
     "output_type": "display_data"
    }
   ],
   "source": [
    "# Create the figure and the axes\n",
    "fig, ax = plt.subplots(figsize=(12, 6))\n",
    "\n",
    "# Create the bar chart\n",
    "bars = ax.bar(trend_sales['mes'], trend_sales['ingresos_mensuales'], width=0.7)\n",
    "\n",
    "# Add tags and title\n",
    "ax.set_xlabel('Mes', fontsize=12)\n",
    "ax.set_ylabel('Ingresos Mensuales', fontsize=12)\n",
    "ax.set_title('Tendencia de Ingresos Mensuales', fontsize=14, fontweight='bold')\n",
    "\n",
    "# Rotate x-axis labels for better viewing\n",
    "plt.xticks(rotation=45, ha='right')\n",
    "\n",
    "# Add the values ​​above each bar\n",
    "for bar in bars:\n",
    "    height = bar.get_height()\n",
    "    ax.text(bar.get_x() + bar.get_width()/2., height + 0.1,\n",
    "            f'${height:,.2f}', ha='center', va='bottom', fontsize=9)\n",
    "\n",
    "# Adjust the layout\n",
    "plt.tight_layout()\n",
    "\n",
    "# Add grid for easier reading\n",
    "ax.yaxis.grid(True, linestyle='--', alpha=0.7)\n",
    "\n",
    "# Show the graph\n",
    "plt.show()\n"
   ]
  },
  {
   "cell_type": "code",
   "execution_count": 20,
   "metadata": {},
   "outputs": [
    {
     "name": "stdout",
     "output_type": "stream",
     "text": [
      "   id_departamento  total_ventas\n",
      "0                4   37003251.70\n",
      "1               16    1529354.77\n",
      "2               20     946220.85\n",
      "3                7     376048.00\n"
     ]
    }
   ],
   "source": [
    "# Sales by department --> 3\n",
    "departments = pd.read_sql_query(\"\"\"\n",
    "    SELECT \n",
    "    id_departamento, \n",
    "    SUM(precio_total) AS total_ventas\n",
    "FROM \n",
    "    tickets\n",
    "GROUP BY \n",
    "    id_departamento\n",
    "ORDER BY \n",
    "    total_ventas DESC;\n",
    "\"\"\", connect)\n",
    "print(departments)"
   ]
  },
  {
   "cell_type": "code",
   "execution_count": 27,
   "metadata": {},
   "outputs": [
    {
     "ename": "KeyError",
     "evalue": "'id_departamento'",
     "output_type": "error",
     "traceback": [
      "\u001b[31m---------------------------------------------------------------------------\u001b[39m",
      "\u001b[31mKeyError\u001b[39m                                  Traceback (most recent call last)",
      "\u001b[36mFile \u001b[39m\u001b[32mc:\\Users\\Alejo\\Desktop\\SENA\\Trimestre6\\PythonML-Rubiela\\Evidencias\\2- Extracion_Datos\\sqlData\\venv\\Lib\\site-packages\\pandas\\core\\indexes\\base.py:3805\u001b[39m, in \u001b[36mIndex.get_loc\u001b[39m\u001b[34m(self, key)\u001b[39m\n\u001b[32m   3804\u001b[39m \u001b[38;5;28;01mtry\u001b[39;00m:\n\u001b[32m-> \u001b[39m\u001b[32m3805\u001b[39m     \u001b[38;5;28;01mreturn\u001b[39;00m \u001b[38;5;28;43mself\u001b[39;49m\u001b[43m.\u001b[49m\u001b[43m_engine\u001b[49m\u001b[43m.\u001b[49m\u001b[43mget_loc\u001b[49m\u001b[43m(\u001b[49m\u001b[43mcasted_key\u001b[49m\u001b[43m)\u001b[49m\n\u001b[32m   3806\u001b[39m \u001b[38;5;28;01mexcept\u001b[39;00m \u001b[38;5;167;01mKeyError\u001b[39;00m \u001b[38;5;28;01mas\u001b[39;00m err:\n",
      "\u001b[36mFile \u001b[39m\u001b[32mindex.pyx:167\u001b[39m, in \u001b[36mpandas._libs.index.IndexEngine.get_loc\u001b[39m\u001b[34m()\u001b[39m\n",
      "\u001b[36mFile \u001b[39m\u001b[32mindex.pyx:196\u001b[39m, in \u001b[36mpandas._libs.index.IndexEngine.get_loc\u001b[39m\u001b[34m()\u001b[39m\n",
      "\u001b[36mFile \u001b[39m\u001b[32mpandas\\\\_libs\\\\hashtable_class_helper.pxi:7081\u001b[39m, in \u001b[36mpandas._libs.hashtable.PyObjectHashTable.get_item\u001b[39m\u001b[34m()\u001b[39m\n",
      "\u001b[36mFile \u001b[39m\u001b[32mpandas\\\\_libs\\\\hashtable_class_helper.pxi:7089\u001b[39m, in \u001b[36mpandas._libs.hashtable.PyObjectHashTable.get_item\u001b[39m\u001b[34m()\u001b[39m\n",
      "\u001b[31mKeyError\u001b[39m: 'id_departamento'",
      "\nThe above exception was the direct cause of the following exception:\n",
      "\u001b[31mKeyError\u001b[39m                                  Traceback (most recent call last)",
      "\u001b[36mCell\u001b[39m\u001b[36m \u001b[39m\u001b[32mIn[27]\u001b[39m\u001b[32m, line 5\u001b[39m\n\u001b[32m      2\u001b[39m fig, axs = plt.subplots(\u001b[32m2\u001b[39m, \u001b[32m2\u001b[39m)\n\u001b[32m      4\u001b[39m \u001b[38;5;66;03m# Create the bar chart\u001b[39;00m\n\u001b[32m----> \u001b[39m\u001b[32m5\u001b[39m bars = ax.bar(\u001b[43mtrend_sales\u001b[49m\u001b[43m[\u001b[49m\u001b[33;43m'\u001b[39;49m\u001b[33;43mid_departamento\u001b[39;49m\u001b[33;43m'\u001b[39;49m\u001b[43m]\u001b[49m, trend_sales[\u001b[33m'\u001b[39m\u001b[33mtotal_ventas\u001b[39m\u001b[33m'\u001b[39m], width=\u001b[32m0.7\u001b[39m)\n",
      "\u001b[36mFile \u001b[39m\u001b[32mc:\\Users\\Alejo\\Desktop\\SENA\\Trimestre6\\PythonML-Rubiela\\Evidencias\\2- Extracion_Datos\\sqlData\\venv\\Lib\\site-packages\\pandas\\core\\frame.py:4102\u001b[39m, in \u001b[36mDataFrame.__getitem__\u001b[39m\u001b[34m(self, key)\u001b[39m\n\u001b[32m   4100\u001b[39m \u001b[38;5;28;01mif\u001b[39;00m \u001b[38;5;28mself\u001b[39m.columns.nlevels > \u001b[32m1\u001b[39m:\n\u001b[32m   4101\u001b[39m     \u001b[38;5;28;01mreturn\u001b[39;00m \u001b[38;5;28mself\u001b[39m._getitem_multilevel(key)\n\u001b[32m-> \u001b[39m\u001b[32m4102\u001b[39m indexer = \u001b[38;5;28;43mself\u001b[39;49m\u001b[43m.\u001b[49m\u001b[43mcolumns\u001b[49m\u001b[43m.\u001b[49m\u001b[43mget_loc\u001b[49m\u001b[43m(\u001b[49m\u001b[43mkey\u001b[49m\u001b[43m)\u001b[49m\n\u001b[32m   4103\u001b[39m \u001b[38;5;28;01mif\u001b[39;00m is_integer(indexer):\n\u001b[32m   4104\u001b[39m     indexer = [indexer]\n",
      "\u001b[36mFile \u001b[39m\u001b[32mc:\\Users\\Alejo\\Desktop\\SENA\\Trimestre6\\PythonML-Rubiela\\Evidencias\\2- Extracion_Datos\\sqlData\\venv\\Lib\\site-packages\\pandas\\core\\indexes\\base.py:3812\u001b[39m, in \u001b[36mIndex.get_loc\u001b[39m\u001b[34m(self, key)\u001b[39m\n\u001b[32m   3807\u001b[39m     \u001b[38;5;28;01mif\u001b[39;00m \u001b[38;5;28misinstance\u001b[39m(casted_key, \u001b[38;5;28mslice\u001b[39m) \u001b[38;5;129;01mor\u001b[39;00m (\n\u001b[32m   3808\u001b[39m         \u001b[38;5;28misinstance\u001b[39m(casted_key, abc.Iterable)\n\u001b[32m   3809\u001b[39m         \u001b[38;5;129;01mand\u001b[39;00m \u001b[38;5;28many\u001b[39m(\u001b[38;5;28misinstance\u001b[39m(x, \u001b[38;5;28mslice\u001b[39m) \u001b[38;5;28;01mfor\u001b[39;00m x \u001b[38;5;129;01min\u001b[39;00m casted_key)\n\u001b[32m   3810\u001b[39m     ):\n\u001b[32m   3811\u001b[39m         \u001b[38;5;28;01mraise\u001b[39;00m InvalidIndexError(key)\n\u001b[32m-> \u001b[39m\u001b[32m3812\u001b[39m     \u001b[38;5;28;01mraise\u001b[39;00m \u001b[38;5;167;01mKeyError\u001b[39;00m(key) \u001b[38;5;28;01mfrom\u001b[39;00m\u001b[38;5;250m \u001b[39m\u001b[34;01merr\u001b[39;00m\n\u001b[32m   3813\u001b[39m \u001b[38;5;28;01mexcept\u001b[39;00m \u001b[38;5;167;01mTypeError\u001b[39;00m:\n\u001b[32m   3814\u001b[39m     \u001b[38;5;66;03m# If we have a listlike key, _check_indexing_error will raise\u001b[39;00m\n\u001b[32m   3815\u001b[39m     \u001b[38;5;66;03m#  InvalidIndexError. Otherwise we fall through and re-raise\u001b[39;00m\n\u001b[32m   3816\u001b[39m     \u001b[38;5;66;03m#  the TypeError.\u001b[39;00m\n\u001b[32m   3817\u001b[39m     \u001b[38;5;28mself\u001b[39m._check_indexing_error(key)\n",
      "\u001b[31mKeyError\u001b[39m: 'id_departamento'"
     ]
    },
    {
     "data": {
      "image/png": "[encoded data removed]",
      "text/plain": [
       "<Figure size 640x480 with 4 Axes>"
      ]
     },
     "metadata": {},
     "output_type": "display_data"
    }
   ],
   "source": [
    "# Create graph\n",
    "fig, axs = plt.subplots(2, 2)\n",
    "\n",
    "# Create the bar chart\n",
    "bars = ax.bar(trend_sales['id_departamento'], trend_sales['total_ventas'], width=0.7)"
   ]
  },
  {
   "cell_type": "code",
   "execution_count": 9,
   "metadata": {},
   "outputs": [
    {
     "name": "stdout",
     "output_type": "stream",
     "text": [
      "   id_seccion  distribucion\n",
      "0          24   20879374.69\n",
      "1         123    8634823.85\n",
      "2          83    7237312.87\n",
      "3          67     946220.85\n",
      "4          53     821420.62\n",
      "5          84     707934.15\n",
      "6         115     376048.00\n",
      "7          16     251740.29\n"
     ]
    }
   ],
   "source": [
    "# Sales distribution --> 4\n",
    "distribution = pd.read_sql_query(\"\"\"\n",
    "    SELECT \n",
    "        id_seccion, \n",
    "        SUM(precio_total) AS distribucion\n",
    "    FROM \n",
    "        tickets\n",
    "    GROUP BY \n",
    "        id_seccion\n",
    "    ORDER BY \n",
    "        distribucion DESC;\n",
    "\"\"\", connect)\n",
    "\n",
    "print(distribution)"
   ]
  },
  {
   "cell_type": "code",
   "execution_count": 11,
   "metadata": {},
   "outputs": [
    {
     "name": "stdout",
     "output_type": "stream",
     "text": [
      "              nombre_producto  total_vendido\n",
      "0                      Banana        2460324\n",
      "1  Bolsa de Bananas Orgánicas        1976709\n",
      "2            Fresas Orgánicas        1381309\n",
      "3    Espinacas Baby Orgánicas        1258330\n",
      "4      Aguacate Hass Orgánico        1104957\n",
      "5           Aguacate Orgánico         923461\n",
      "6                Limón Grande         804752\n",
      "7                      Fresas         748065\n",
      "8                     Limones         733736\n",
      "9       Leche Entera Orgánica         715085\n"
     ]
    }
   ],
   "source": [
    "# Sales per producto (limit 10) --> 5\n",
    "product_sales = pd.read_sql_query(\"\"\"\n",
    "    SELECT \n",
    "        nombre_producto, \n",
    "        SUM(cantidad) AS total_vendido\n",
    "    FROM \n",
    "        tickets\n",
    "    GROUP BY \n",
    "        nombre_producto\n",
    "    ORDER BY \n",
    "        total_vendido DESC\n",
    "    LIMIT 10;\n",
    "\"\"\", connect)\n",
    "\n",
    "print(product_sales)"
   ]
  },
  {
   "cell_type": "code",
   "execution_count": 12,
   "metadata": {},
   "outputs": [
    {
     "name": "stdout",
     "output_type": "stream",
     "text": [
      "              nombre_producto  total_vendido\n",
      "0  Bolsa de Bananas Orgánicas     4842937.05\n",
      "1            Fresas Orgánicas     3439459.41\n",
      "2                      Banana     2583340.20\n",
      "3        Frambuesas Orgánicas     2032919.25\n",
      "4      Aguacate Hass Orgánico     1977873.03\n",
      "5    Espinacas Baby Orgánicas     1874911.70\n",
      "6           Aguacate Orgánico     1616056.75\n",
      "7                      Fresas     1533533.25\n",
      "8         Arándanos Orgánicos     1444778.50\n",
      "9    Tomates Cherry Orgánicos     1128040.95\n"
     ]
    }
   ],
   "source": [
    "# Products revenue --> 6\n",
    "product_revenue = pd.read_sql_query(\"\"\"\n",
    "    SELECT \n",
    "        nombre_producto, \n",
    "        SUM(precio_total) AS total_vendido\n",
    "    FROM \n",
    "        tickets\n",
    "    GROUP BY \n",
    "        nombre_producto\n",
    "    ORDER BY \n",
    "        total_vendido DESC\n",
    "    LIMIT 10;\n",
    "\"\"\", connect)\n",
    "\n",
    "print(product_revenue)"
   ]
  },
  {
   "cell_type": "code",
   "execution_count": 13,
   "metadata": {},
   "outputs": [
    {
     "name": "stdout",
     "output_type": "stream",
     "text": [
      "    id_cliente  total_compras\n",
      "0       189425        4784.44\n",
      "1       145686        4656.01\n",
      "2        95967        4441.07\n",
      "3        67870        4381.49\n",
      "4        51256        4280.17\n",
      "5       108031        4170.37\n",
      "6       105213        4164.07\n",
      "7        66806        4010.08\n",
      "8       153932        3966.09\n",
      "9       143296        3887.86\n",
      "10      175294        3886.68\n",
      "11        1197        3883.76\n",
      "12       62239        3873.40\n",
      "13        5665        3862.69\n",
      "14       31552        3852.53\n",
      "15      132274        3842.65\n",
      "16       14868        3836.05\n",
      "17      103634        3808.71\n",
      "18      132022        3803.13\n",
      "19       94701        3783.81\n"
     ]
    }
   ],
   "source": [
    "# Customers (limit 20) --> 7\n",
    "customer = pd.read_sql_query(\"\"\"\n",
    "    SELECT \n",
    "        id_cliente, \n",
    "        SUM(precio_total) AS total_compras\n",
    "    FROM \n",
    "        tickets\n",
    "    GROUP BY \n",
    "        id_cliente\n",
    "    ORDER BY \n",
    "        total_compras DESC\n",
    "    LIMIT 20;\n",
    "\"\"\", connect)\n",
    "\n",
    "print(customer)"
   ]
  },
  {
   "cell_type": "code",
   "execution_count": 14,
   "metadata": {},
   "outputs": [
    {
     "name": "stdout",
     "output_type": "stream",
     "text": [
      "   compra_media\n",
      "0    219.099604\n"
     ]
    }
   ],
   "source": [
    "# Average purchase per customer --> 8\n",
    "average_purchase = pd.read_sql_query(\"\"\"\n",
    "    SELECT SUM(precio_total)\n",
    "    / COUNT (DISTINCT id_cliente) AS compra_media\n",
    "    FROM tickets\n",
    "\"\"\", connect)\n",
    "\n",
    "print(average_purchase)"
   ]
  },
  {
   "cell_type": "code",
   "execution_count": 15,
   "metadata": {},
   "outputs": [
    {
     "name": "stdout",
     "output_type": "stream",
     "text": [
      "   total_pedidos\n",
      "0        2060188\n"
     ]
    }
   ],
   "source": [
    "# Total orders --> 9\n",
    "total_orders = pd.read_sql_query(\"\"\"\n",
    "    SELECT COUNT(DISTINCT id_pedido) AS total_pedidos\n",
    "    FROM tickets\n",
    "\"\"\", connect)\n",
    "\n",
    "print(total_orders)"
   ]
  },
  {
   "cell_type": "code",
   "execution_count": 16,
   "metadata": {},
   "outputs": [
    {
     "name": "stdout",
     "output_type": "stream",
     "text": [
      "   promedio_valor\n",
      "0       19.345261\n"
     ]
    }
   ],
   "source": [
    "# average value per order\n",
    "average_order = pd.read_sql_query(\"\"\"\n",
    "    SELECT AVG(precio_total_pedido) AS promedio_valor\n",
    "    FROM (\n",
    "        SELECT id_pedido, SUM(precio_total) AS precio_total_pedido\n",
    "        FROM tickets\n",
    "        GROUP BY id_pedido\n",
    "    )\n",
    "\"\"\", connect)\n",
    "\n",
    "print(average_order)"
   ]
  },
  {
   "cell_type": "code",
   "execution_count": null,
   "metadata": {},
   "outputs": [],
   "source": [
    "# trend_sales.to_excel('ventas_cliente.xlsx', sheet_name='clientes', index=False)"
   ]
  },
  {
   "cell_type": "code",
   "execution_count": 17,
   "metadata": {},
   "outputs": [],
   "source": [
    "# Close connect\n",
    "connect.close()"
   ]
  }
 ],
 "metadata": {
  "kernelspec": {
   "display_name": "venv",
   "language": "python",
   "name": "python3"
  },
  "language_info": {
   "codemirror_mode": {
    "name": "ipython",
    "version": 3
   },
   "file_extension": ".py",
   "mimetype": "text/x-python",
   "name": "python",
   "nbconvert_exporter": "python",
   "pygments_lexer": "ipython3",
   "version": "3.11.9"
  }
 },
 "nbformat": 4,
 "nbformat_minor": 2
}
